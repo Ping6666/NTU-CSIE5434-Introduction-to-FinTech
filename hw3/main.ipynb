{
 "cells": [
  {
   "cell_type": "markdown",
   "metadata": {},
   "source": [
    "# Introduction to FinTech\n",
    "\n",
    "> Assignment for Bitcoin/Blockchain\n"
   ]
  },
  {
   "cell_type": "code",
   "execution_count": 1,
   "metadata": {},
   "outputs": [],
   "source": [
    "import random\n",
    "import pandas as pd\n",
    "\n",
    "import ecdsa\n",
    "\n",
    "from gmpy2 import invert\n",
    "from sympy import symbols, Poly, GF\n"
   ]
  },
  {
   "cell_type": "markdown",
   "metadata": {},
   "source": [
    "Use the elliptic curve \"secp256k1\" as Bitcoin and Ethereum. \n",
    "\n",
    "Let $G$ be the base point in the standard.\n",
    "\n",
    "Let d be the last 4 digits of your student ID number.\n"
   ]
  },
  {
   "cell_type": "code",
   "execution_count": 2,
   "metadata": {},
   "outputs": [],
   "source": [
    "G, N = ecdsa.SECP256k1.generator, ecdsa.SECP256k1.order\n",
    "d = 4012\n"
   ]
  },
  {
   "cell_type": "markdown",
   "metadata": {},
   "source": [
    "### 1. Evaluate $4G$."
   ]
  },
  {
   "cell_type": "code",
   "execution_count": 3,
   "metadata": {},
   "outputs": [
    {
     "name": "stdout",
     "output_type": "stream",
     "text": [
      "G_x: 103388573995635080359749164254216598308788835304023601477803095234286494993683\n",
      "G_y: 37057141145242123013015316630864329550140216928701153669873286428255828810018\n"
     ]
    }
   ],
   "source": [
    "ans_1 = 4 * G\n",
    "print('G_x:', ans_1.x())\n",
    "print('G_y:', ans_1.y())\n"
   ]
  },
  {
   "cell_type": "markdown",
   "metadata": {},
   "source": [
    "### 2. Evaluate $5G$."
   ]
  },
  {
   "cell_type": "code",
   "execution_count": 4,
   "metadata": {},
   "outputs": [
    {
     "name": "stdout",
     "output_type": "stream",
     "text": [
      "G_x: 21505829891763648114329055987619236494102133314575206970830385799158076338148\n",
      "G_y: 98003708678762621233683240503080860129026887322874138805529884920309963580118\n"
     ]
    }
   ],
   "source": [
    "ans_2 = 5 * G\n",
    "print('G_x:', ans_2.x())\n",
    "print('G_y:', ans_2.y())\n"
   ]
  },
  {
   "cell_type": "markdown",
   "metadata": {},
   "source": [
    "### 3. Evaluate $Q = dG$."
   ]
  },
  {
   "cell_type": "code",
   "execution_count": 5,
   "metadata": {},
   "outputs": [
    {
     "name": "stdout",
     "output_type": "stream",
     "text": [
      "G_x: 95132707106078315631808255170742988763368332977423351820178255756379652080592\n",
      "G_y: 40086924037306413799597011063588267353160692594519101205015904140789280920158\n"
     ]
    }
   ],
   "source": [
    "ans_3 = d * G\n",
    "print('G_x:', ans_3.x())\n",
    "print('G_y:', ans_3.y())\n"
   ]
  },
  {
   "cell_type": "markdown",
   "metadata": {},
   "source": [
    "### 4. With standard Double-and Add algorithm for scalar multiplications, how many doubles and additions respectively are required to evaluate $dG$?\n"
   ]
  },
  {
   "cell_type": "markdown",
   "metadata": {},
   "source": [
    "$d = {4012}_{10} = {111110101100}_2$\n",
    "\n",
    "doubles = number of bits in binary d - 1 = 11\n",
    "\n",
    "additions = number of one in binary d - 1 = 7\n"
   ]
  },
  {
   "cell_type": "markdown",
   "metadata": {},
   "source": [
    "### 5. Note that it is effortless to find $−P$ from any $P$ on a curve. If the addition of an inverse point is allowed, try your best to evaluate $dG$ as fast as possible.\n",
    "\n",
    "> Hint: $31P = 2(2(2(2(2P)))) − P$.\n"
   ]
  },
  {
   "cell_type": "markdown",
   "metadata": {},
   "source": [
    "**induction**\n",
    "\n",
    "${3}_{10} = {11}_{2} = {100}_{2} - {1}_{2}$\n",
    "\n",
    "doubles: 1, additions: 1 -> doubles: 2, additions: 1\n",
    "\n",
    "${7}_{10} = {111}_{2} = {1000}_{2} - {1}_{2}$\n",
    "\n",
    "doubles: 2, additions: 2 -> doubles: 3, additions: 1\n",
    "\n",
    "${15}_{10} = {1111}_{2} = {10000}_{2} - {1}_{2}$\n",
    "\n",
    "doubles: 3, additions: 3 -> doubles: 4, additions: 1\n",
    "\n",
    "by above induction, we can found that only 4 1-bit in a row, then can evaluate P much faster.\n",
    "\n",
    "**precompute**\n",
    "\n",
    "we can compute ${31}_{10} = {11111}_{2} = {100000}_{2} - {1}_{2}$\n",
    "\n",
    "doubles: 4, additions: 4 -> doubles: 5, additions: 1\n",
    "\n",
    "reduce 3 additions by one more doubles op.\n",
    "\n",
    "**conclusion**\n",
    "\n",
    "$dG = 4012G = 4(2(4(4(2(2(2(2G + 1) + 1) + 1) + 1) + 1) + 1) + 1)$\n",
    "\n",
    "$ = 4(2(4(4(2^5G - 1) + 1) + 1) + 1) = 4012G$\n",
    "\n",
    "therefore in my case, $d = {4012}_{10} = {111110101100}_2$.\n",
    "\n",
    "doubles: 11, additions: 7 -> doubles: 12, additions: 4\n"
   ]
  },
  {
   "cell_type": "markdown",
   "metadata": {},
   "source": [
    "### 6. Take a Bitcoin transaction as you wish. Sign the transaction with a random number $k$ and your private key $d$.\n"
   ]
  },
  {
   "cell_type": "code",
   "execution_count": 6,
   "metadata": {},
   "outputs": [
    {
     "name": "stdout",
     "output_type": "stream",
     "text": [
      "current block hash: 00000000d0a5fc7e786da1d1f16bbf40204ca38200e6d9212e43cbb50fdd0bf5\n",
      "previous block hash: 000000009c34fcc049fc268d8928fc07d36896ffff4c97a285f479301aaf9473\n",
      "number of tx in current block: 1\n",
      "\n",
      "target tx hash: 1d1df9d12bb709983ec0b1ccbbbe1714e0b7b7a0dd75bba1a992c1f436bb3b93\n"
     ]
    }
   ],
   "source": [
    "block_num, tx_num = 5487, 0\n",
    "raw_block = pd.read_json(f'https://blockchain.info/rawblock/{block_num}')\n",
    "\n",
    "print(\"current block hash:\", raw_block['hash'][0])\n",
    "print(\"previous block hash:\", raw_block['prev_block'][0])\n",
    "print(\"number of tx in current block:\", raw_block['n_tx'][0])\n",
    "print()\n",
    "\n",
    "unsigned_tx = raw_block['tx'][tx_num]['hash']\n",
    "\n",
    "print(\"target tx hash:\", unsigned_tx)\n"
   ]
  },
  {
   "cell_type": "code",
   "execution_count": 7,
   "metadata": {},
   "outputs": [
    {
     "name": "stdout",
     "output_type": "stream",
     "text": [
      "unsigned_tx length constraint: 256\n",
      "unsigned_tx: 1d1df9d12bb709983ec0b1ccbbbe1714e0b7b7a0dd75bba1a992c1f436bb3b93\n",
      "int_unsigned_tx: 13170035347866228486597062972589550469689068311373033232582422465388700449683\n"
     ]
    }
   ],
   "source": [
    "n, l = N, 0\n",
    "while n >= 1:\n",
    "    l += 1\n",
    "    n //= 2\n",
    "\n",
    "print(\"unsigned_tx length constraint:\", l)\n",
    "\n",
    "if l < len(unsigned_tx):\n",
    "    l = len(unsigned_tx)\n",
    "unsigned_tx = unsigned_tx[:l]\n",
    "int_unsigned_tx = int(unsigned_tx, 16)\n",
    "\n",
    "print(\"unsigned_tx:\", unsigned_tx)\n",
    "print(\"int_unsigned_tx:\", int_unsigned_tx)\n"
   ]
  },
  {
   "cell_type": "code",
   "execution_count": 8,
   "metadata": {},
   "outputs": [
    {
     "name": "stdout",
     "output_type": "stream",
     "text": [
      "r 75134285783861693868713159109201710932870326036610453063509702145908418917362\n",
      "s 114710356408045690067222397002410881003179288348859407047388221084131097902525\n"
     ]
    }
   ],
   "source": [
    "k, r, s = 0, 0, 0\n",
    "while True:\n",
    "    # choose k in 1 ~ N - 1\n",
    "    k = random.randint(1, N - 1)\n",
    "\n",
    "    r = (k * G).x() % N\n",
    "    if r == 0:\n",
    "        continue\n",
    "\n",
    "    s = (invert(k, N) * (int_unsigned_tx + r * d)) % N\n",
    "    if s == 0:\n",
    "        continue\n",
    "    else:\n",
    "        # r != 0 and s != 0\n",
    "        break\n",
    "\n",
    "print(\"r\", r)\n",
    "print(\"s\", s)\n"
   ]
  },
  {
   "cell_type": "markdown",
   "metadata": {},
   "source": [
    "### 7. Verify the digital signature with your public key $Q$.\n"
   ]
  },
  {
   "cell_type": "code",
   "execution_count": 9,
   "metadata": {},
   "outputs": [
    {
     "name": "stdout",
     "output_type": "stream",
     "text": [
      "Verification Successful!\n"
     ]
    }
   ],
   "source": [
    "assert r >= 1 and r <= N - 1, \"r not in constraint\"\n",
    "assert s >= 1 and s <= N - 1, \"s not in constraint\"\n",
    "\n",
    "# int_unsigned_tx stay in constraint no need to verify\n",
    "\n",
    "w = invert(s, N)\n",
    "\n",
    "u1 = (int_unsigned_tx * w) % N\n",
    "u2 = (r * w) % N\n",
    "\n",
    "c_point = u1 * G + u2 * (d * G)\n",
    "\n",
    "if r == c_point.x():\n",
    "    print(\"Verification Successful!\")\n",
    "else:\n",
    "    print(\"Verification Failed!\")\n"
   ]
  },
  {
   "cell_type": "markdown",
   "metadata": {},
   "source": [
    "### 8. Over $Z_{10007}$, construct the quadratic polynomial $p(x)$ with $p(1) = 10$, $p(2) = 20$, and $p(3) = d$.\n"
   ]
  },
  {
   "cell_type": "code",
   "execution_count": 10,
   "metadata": {},
   "outputs": [
    {
     "name": "stdout",
     "output_type": "stream",
     "text": [
      "Poly(1991*x**2 + 4044*x + 3982, x, modulus=10007)\n",
      "\n",
      "p(1) = 10\n",
      "p(2) = 20\n",
      "p(3) = 4012\n"
     ]
    }
   ],
   "source": [
    "x = symbols('x')\n",
    "M = 10007\n",
    "\n",
    "c_lagrange = ((10 * (x - 2) * (x - 3) * invert(1 - 2, M) * invert(1 - 3, M)) +\n",
    "              (20 * (x - 1) * (x - 3) * invert(2 - 1, M) * invert(2 - 3, M)) +\n",
    "              (d * (x - 1) * (x - 2) * invert(3 - 1, M) * invert(3 - 2, M)))\n",
    "\n",
    "p = Poly(c_lagrange, domain=GF(M))\n",
    "\n",
    "print(p)\n",
    "print()\n",
    "\n",
    "print('p(1) =', p(1))\n",
    "print('p(2) =', p(2))\n",
    "print('p(3) =', p(3))\n"
   ]
  }
 ],
 "metadata": {
  "kernelspec": {
   "display_name": "Python 3.9.15 ('fintech-hw3': conda)",
   "language": "python",
   "name": "python3"
  },
  "language_info": {
   "codemirror_mode": {
    "name": "ipython",
    "version": 3
   },
   "file_extension": ".py",
   "mimetype": "text/x-python",
   "name": "python",
   "nbconvert_exporter": "python",
   "pygments_lexer": "ipython3",
   "version": "3.9.15"
  },
  "orig_nbformat": 4,
  "vscode": {
   "interpreter": {
    "hash": "ecdbdb2d2a2eaa4eaf14807e90a96a8d2a60b7640c5d49052dc8ffda1ddbf390"
   }
  }
 },
 "nbformat": 4,
 "nbformat_minor": 2
}
